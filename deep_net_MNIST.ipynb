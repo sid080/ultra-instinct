{
  "nbformat": 4,
  "nbformat_minor": 0,
  "metadata": {
    "colab": {
      "name": "deep_net_demo.ipynb",
      "version": "0.3.2",
      "provenance": [],
      "collapsed_sections": [],
      "include_colab_link": true
    },
    "kernelspec": {
      "name": "python3",
      "display_name": "Python 3"
    },
    "accelerator": "GPU"
  },
  "cells": [
    {
      "cell_type": "markdown",
      "metadata": {
        "id": "view-in-github",
        "colab_type": "text"
      },
      "source": [
        "[View in Colaboratory](https://colab.research.google.com/github/sid080/ultra-instinct/blob/master/deep_net_MNIST.ipynb)"
      ]
    },
    {
      "metadata": {
        "id": "6nrMQ-n4wv5d",
        "colab_type": "text"
      },
      "cell_type": "markdown",
      "source": [
        "Deep net in keras\n"
      ]
    },
    {
      "metadata": {
        "id": "tsBLTmqow_ss",
        "colab_type": "text"
      },
      "cell_type": "markdown",
      "source": [
        "Build a neural network to classify MNIST digits"
      ]
    },
    {
      "metadata": {
        "id": "gQfH0Y5gxM1N",
        "colab_type": "code",
        "colab": {}
      },
      "cell_type": "code",
      "source": [
        "import numpy as np\n",
        "np.random.seed(42)\n"
      ],
      "execution_count": 0,
      "outputs": []
    },
    {
      "metadata": {
        "id": "ZyB4klg2x6Cx",
        "colab_type": "code",
        "colab": {
          "base_uri": "https://localhost:8080/",
          "height": 34
        },
        "outputId": "f7b12bf3-917c-4f3c-f013-a3bffa879d8d"
      },
      "cell_type": "code",
      "source": [
        "import keras\n",
        "from keras.datasets import mnist\n",
        "from keras.models import Sequential\n",
        "from keras.layers import Dense, Dropout\n",
        "from keras.optimizers import SGD\n",
        "from keras.layers import Flatten, MaxPooling2D, Conv2D\n",
        "\n",
        "from keras.layers.normalization import BatchNormalization\n",
        "from keras import regularizers"
      ],
      "execution_count": 0,
      "outputs": [
        {
          "output_type": "stream",
          "text": [
            "Using TensorFlow backend.\n"
          ],
          "name": "stderr"
        }
      ]
    },
    {
      "metadata": {
        "id": "cLdWEjhW0Ccz",
        "colab_type": "code",
        "colab": {}
      },
      "cell_type": "code",
      "source": [
        "(X_train, y_train), (X_test, y_test) = mnist.load_data()"
      ],
      "execution_count": 0,
      "outputs": []
    },
    {
      "metadata": {
        "id": "Nwgpp4-v1so2",
        "colab_type": "code",
        "colab": {}
      },
      "cell_type": "code",
      "source": [
        "X_train = X_train.reshape(60000,28,28,1).astype('float32')\n",
        "X_test = X_test.reshape(10000,28,28,1).astype('float32')\n",
        "\n",
        "\n"
      ],
      "execution_count": 0,
      "outputs": []
    },
    {
      "metadata": {
        "id": "gWIDQjI13HjC",
        "colab_type": "code",
        "colab": {}
      },
      "cell_type": "code",
      "source": [
        "X_train /= 255\n",
        "X_test /= 255"
      ],
      "execution_count": 0,
      "outputs": []
    },
    {
      "metadata": {
        "id": "FAQpJkP74DCi",
        "colab_type": "code",
        "colab": {}
      },
      "cell_type": "code",
      "source": [
        "n_classes = 10\n",
        "y_train = keras.utils.to_categorical(y_train,n_classes)\n",
        "y_test = keras.utils.to_categorical(y_test,n_classes)\n"
      ],
      "execution_count": 0,
      "outputs": []
    },
    {
      "metadata": {
        "id": "FDaYfbVa48hW",
        "colab_type": "code",
        "colab": {}
      },
      "cell_type": "code",
      "source": [
        "model = Sequential()\n",
        "model.add(Conv2D(32, kernel_size=(3,3), activation = 'relu', input_shape = (28,28,1)))\n",
        "model.add(Conv2D(64, kernel_size = (3,3), activation = 'relu'))\n",
        "model.add(MaxPooling2D(pool_size = (2,2)))\n",
        "model.add(Dropout(0.25))\n",
        "model.add(Flatten())\n",
        "model.add(Dense(128, activation = 'relu'))\n",
        "model.add(Dropout(0.5))\n",
        "model.add(Dense(n_classes, activation = 'softmax'))\n",
        "\n"
      ],
      "execution_count": 0,
      "outputs": []
    },
    {
      "metadata": {
        "id": "jXjSQ16vAOdM",
        "colab_type": "code",
        "colab": {
          "base_uri": "https://localhost:8080/",
          "height": 408
        },
        "outputId": "a0e7ce90-96e0-4693-fb21-a9816a4c078a"
      },
      "cell_type": "code",
      "source": [
        "model.summary()"
      ],
      "execution_count": 0,
      "outputs": [
        {
          "output_type": "stream",
          "text": [
            "_________________________________________________________________\n",
            "Layer (type)                 Output Shape              Param #   \n",
            "=================================================================\n",
            "conv2d_1 (Conv2D)            (None, 26, 26, 32)        320       \n",
            "_________________________________________________________________\n",
            "conv2d_2 (Conv2D)            (None, 24, 24, 64)        18496     \n",
            "_________________________________________________________________\n",
            "max_pooling2d_1 (MaxPooling2 (None, 12, 12, 64)        0         \n",
            "_________________________________________________________________\n",
            "dropout_1 (Dropout)          (None, 12, 12, 64)        0         \n",
            "_________________________________________________________________\n",
            "flatten_1 (Flatten)          (None, 9216)              0         \n",
            "_________________________________________________________________\n",
            "dense_1 (Dense)              (None, 128)               1179776   \n",
            "_________________________________________________________________\n",
            "dropout_2 (Dropout)          (None, 128)               0         \n",
            "_________________________________________________________________\n",
            "dense_2 (Dense)              (None, 10)                1290      \n",
            "=================================================================\n",
            "Total params: 1,199,882\n",
            "Trainable params: 1,199,882\n",
            "Non-trainable params: 0\n",
            "_________________________________________________________________\n"
          ],
          "name": "stdout"
        }
      ]
    },
    {
      "metadata": {
        "id": "op_Jip5Q6aPl",
        "colab_type": "code",
        "colab": {}
      },
      "cell_type": "code",
      "source": [
        "model.compile(loss = 'categorical_crossentropy', optimizer = 'adam', metrics = ['accuracy'])"
      ],
      "execution_count": 0,
      "outputs": []
    },
    {
      "metadata": {
        "id": "QFE5Z5gx7UIW",
        "colab_type": "code",
        "colab": {
          "base_uri": "https://localhost:8080/",
          "height": 1071
        },
        "outputId": "c32bd8b9-6547-48d6-a2d6-83a33824984c"
      },
      "cell_type": "code",
      "source": [
        "model.fit(X_train, y_train, batch_size = 128, epochs = 30, verbose = 1, validation_data = [X_test, y_test])"
      ],
      "execution_count": 0,
      "outputs": [
        {
          "output_type": "stream",
          "text": [
            "Train on 60000 samples, validate on 10000 samples\n",
            "Epoch 1/30\n",
            "60000/60000 [==============================] - 17s 276us/step - loss: 0.2428 - acc: 0.9262 - val_loss: 0.0525 - val_acc: 0.9833\n",
            "Epoch 2/30\n",
            "60000/60000 [==============================] - 10s 163us/step - loss: 0.0876 - acc: 0.9744 - val_loss: 0.0418 - val_acc: 0.9860\n",
            "Epoch 3/30\n",
            "60000/60000 [==============================] - 10s 162us/step - loss: 0.0643 - acc: 0.9801 - val_loss: 0.0353 - val_acc: 0.9878\n",
            "Epoch 4/30\n",
            "60000/60000 [==============================] - 10s 162us/step - loss: 0.0544 - acc: 0.9839 - val_loss: 0.0318 - val_acc: 0.9894\n",
            "Epoch 5/30\n",
            "60000/60000 [==============================] - 10s 162us/step - loss: 0.0447 - acc: 0.9864 - val_loss: 0.0278 - val_acc: 0.9905\n",
            "Epoch 6/30\n",
            "60000/60000 [==============================] - 10s 162us/step - loss: 0.0401 - acc: 0.9875 - val_loss: 0.0269 - val_acc: 0.9912\n",
            "Epoch 7/30\n",
            "60000/60000 [==============================] - 10s 164us/step - loss: 0.0352 - acc: 0.9890 - val_loss: 0.0252 - val_acc: 0.9916\n",
            "Epoch 8/30\n",
            "60000/60000 [==============================] - 10s 165us/step - loss: 0.0306 - acc: 0.9900 - val_loss: 0.0264 - val_acc: 0.9917\n",
            "Epoch 9/30\n",
            "60000/60000 [==============================] - 10s 163us/step - loss: 0.0306 - acc: 0.9899 - val_loss: 0.0284 - val_acc: 0.9908\n",
            "Epoch 10/30\n",
            "60000/60000 [==============================] - 10s 171us/step - loss: 0.0262 - acc: 0.9918 - val_loss: 0.0253 - val_acc: 0.9924\n",
            "Epoch 11/30\n",
            "60000/60000 [==============================] - 10s 167us/step - loss: 0.0238 - acc: 0.9923 - val_loss: 0.0308 - val_acc: 0.9905\n",
            "Epoch 12/30\n",
            "60000/60000 [==============================] - 11s 177us/step - loss: 0.0225 - acc: 0.9926 - val_loss: 0.0288 - val_acc: 0.9916\n",
            "Epoch 13/30\n",
            "60000/60000 [==============================] - 10s 164us/step - loss: 0.0205 - acc: 0.9927 - val_loss: 0.0299 - val_acc: 0.9920\n",
            "Epoch 14/30\n",
            "60000/60000 [==============================] - 10s 162us/step - loss: 0.0182 - acc: 0.9941 - val_loss: 0.0304 - val_acc: 0.9921\n",
            "Epoch 15/30\n",
            "60000/60000 [==============================] - 10s 163us/step - loss: 0.0191 - acc: 0.9937 - val_loss: 0.0322 - val_acc: 0.9921\n",
            "Epoch 16/30\n",
            "60000/60000 [==============================] - 10s 163us/step - loss: 0.0171 - acc: 0.9942 - val_loss: 0.0283 - val_acc: 0.9925\n",
            "Epoch 17/30\n",
            "60000/60000 [==============================] - 10s 162us/step - loss: 0.0158 - acc: 0.9948 - val_loss: 0.0311 - val_acc: 0.9921\n",
            "Epoch 18/30\n",
            "60000/60000 [==============================] - 10s 162us/step - loss: 0.0161 - acc: 0.9944 - val_loss: 0.0295 - val_acc: 0.9927\n",
            "Epoch 19/30\n",
            "60000/60000 [==============================] - 10s 162us/step - loss: 0.0155 - acc: 0.9947 - val_loss: 0.0288 - val_acc: 0.9928\n",
            "Epoch 20/30\n",
            "60000/60000 [==============================] - 10s 162us/step - loss: 0.0142 - acc: 0.9954 - val_loss: 0.0288 - val_acc: 0.9925\n",
            "Epoch 21/30\n",
            "60000/60000 [==============================] - 10s 162us/step - loss: 0.0138 - acc: 0.9952 - val_loss: 0.0310 - val_acc: 0.9925\n",
            "Epoch 22/30\n",
            "60000/60000 [==============================] - 10s 162us/step - loss: 0.0133 - acc: 0.9957 - val_loss: 0.0324 - val_acc: 0.9925\n",
            "Epoch 23/30\n",
            "60000/60000 [==============================] - 10s 162us/step - loss: 0.0130 - acc: 0.9958 - val_loss: 0.0316 - val_acc: 0.9925\n",
            "Epoch 24/30\n",
            "60000/60000 [==============================] - 10s 162us/step - loss: 0.0117 - acc: 0.9960 - val_loss: 0.0289 - val_acc: 0.9932\n",
            "Epoch 25/30\n",
            "60000/60000 [==============================] - 10s 162us/step - loss: 0.0120 - acc: 0.9961 - val_loss: 0.0274 - val_acc: 0.9932\n",
            "Epoch 26/30\n",
            "60000/60000 [==============================] - 10s 164us/step - loss: 0.0119 - acc: 0.9959 - val_loss: 0.0313 - val_acc: 0.9929\n",
            "Epoch 27/30\n",
            "60000/60000 [==============================] - 10s 162us/step - loss: 0.0114 - acc: 0.9962 - val_loss: 0.0308 - val_acc: 0.9936\n",
            "Epoch 28/30\n",
            "60000/60000 [==============================] - 10s 162us/step - loss: 0.0103 - acc: 0.9964 - val_loss: 0.0301 - val_acc: 0.9942\n",
            "Epoch 29/30\n",
            "60000/60000 [==============================] - 10s 163us/step - loss: 0.0096 - acc: 0.9967 - val_loss: 0.0350 - val_acc: 0.9932\n",
            "Epoch 30/30\n",
            "60000/60000 [==============================] - 10s 167us/step - loss: 0.0113 - acc: 0.9966 - val_loss: 0.0301 - val_acc: 0.9940\n"
          ],
          "name": "stdout"
        },
        {
          "output_type": "execute_result",
          "data": {
            "text/plain": [
              "<keras.callbacks.History at 0x7fca18dcb550>"
            ]
          },
          "metadata": {
            "tags": []
          },
          "execution_count": 10
        }
      ]
    },
    {
      "metadata": {
        "id": "DugjLdcP8DPq",
        "colab_type": "code",
        "colab": {}
      },
      "cell_type": "code",
      "source": [
        ""
      ],
      "execution_count": 0,
      "outputs": []
    }
  ]
}